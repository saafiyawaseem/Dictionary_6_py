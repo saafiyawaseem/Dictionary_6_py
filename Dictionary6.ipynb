{
  "nbformat": 4,
  "nbformat_minor": 0,
  "metadata": {
    "colab": {
      "provenance": [],
      "authorship_tag": "ABX9TyOVm3i5N55UUMDWCAmW8cd3",
      "include_colab_link": true
    },
    "kernelspec": {
      "name": "python3",
      "display_name": "Python 3"
    },
    "language_info": {
      "name": "python"
    }
  },
  "cells": [
    {
      "cell_type": "markdown",
      "metadata": {
        "id": "view-in-github",
        "colab_type": "text"
      },
      "source": [
        "<a href=\"https://colab.research.google.com/github/saafiyawaseem/Dictionary_6_py/blob/main/Dictionary6.ipynb\" target=\"_parent\"><img src=\"https://colab.research.google.com/assets/colab-badge.svg\" alt=\"Open In Colab\"/></a>"
      ]
    },
    {
      "cell_type": "code",
      "execution_count": null,
      "metadata": {
        "colab": {
          "base_uri": "https://localhost:8080/"
        },
        "id": "zcTWj99UPC-3",
        "outputId": "65b85004-8c90-4ed0-9e90-d2a85db15df2"
      },
      "outputs": [
        {
          "output_type": "stream",
          "name": "stdout",
          "text": [
            "Pakistan Zindabad\n"
          ]
        }
      ],
      "source": [
        "print(\"Pakistan Zindabad\")"
      ]
    },
    {
      "cell_type": "markdown",
      "source": [
        "# Why do we need dictionary in python"
      ],
      "metadata": {
        "id": "vah2DOiP8BCF"
      }
    },
    {
      "cell_type": "code",
      "source": [
        "student = [\"studentname\",\"javeriya\",\"age\",12 ,\"class\",9 ,\"section\", \"B\", \"grade\", \"A\"]\n",
        "print(student[0],student[1])"
      ],
      "metadata": {
        "id": "oDA0XrvE8Ln7",
        "colab": {
          "base_uri": "https://localhost:8080/"
        },
        "outputId": "233e090e-e18a-48ac-9c78-db56feb58f47"
      },
      "execution_count": null,
      "outputs": [
        {
          "output_type": "stream",
          "name": "stdout",
          "text": [
            "studentname javeriya\n"
          ]
        }
      ]
    },
    {
      "cell_type": "code",
      "source": [
        "condidate1 ={\n",
        "    \"name\":\"Fatima\",\n",
        "    \"age\": 17,\n",
        "    \"dob\": 26/1/2009,\n",
        "    \"profession\":\"graphic designing\",\n",
        "    \"qualification\":\"Matric\",\n",
        "    \"grade\":\"A\",\n",
        "}\n",
        "print(condidate1[\"name\"])\n",
        "print(condidate1[\"profession\"])"
      ],
      "metadata": {
        "colab": {
          "base_uri": "https://localhost:8080/"
        },
        "id": "bB1Fy-qy0Qjq",
        "outputId": "0905575e-0676-4689-df69-a0122174d604"
      },
      "execution_count": null,
      "outputs": [
        {
          "output_type": "stream",
          "name": "stdout",
          "text": [
            "Fatima\n",
            "graphic desighning\n"
          ]
        }
      ]
    },
    {
      "cell_type": "code",
      "source": [
        "#dictionary = {\n",
        "\n",
        "# A ={\n",
        "   # \"Abe't\":\"encourage\",\n",
        "   # \"Abhor\":\"regard with disgust and hatred\",\n",
        "   # \"Abide\":\"continue\",\n",
        "    #\"Able\":\"having power\",\n",
        "   # \"Above\":\"upper side\"\n",
        "#},\n",
        "B ={\n",
        "    \"Brilliant\": \"Exceptionally clever or talented.\",\n",
        "        \"Benevolent\": \"Well-meaning and kindly.\",\n",
        "        \"Blissful\": \"Full of happiness and joy.\",\n",
        "        \"Bizarre\": \"Very strange or unusual.\",\n",
        "        \"Burden\": \"A heavy load or responsibility.\"\n",
        "},\n",
        "\n",
        "C={\n",
        "        \"Courageous\": \"Brave and fearless.\",\n",
        "        \"Compassion\": \"Sympathetic pity and concern for others.\",\n",
        "        \"Candid\": \"Truthful and straightforward.\",\n",
        "        \"Crucial\": \"Extremely important or necessary.\",\n",
        "        \"Curious\": \"Eager to know or learn something.\"\n",
        "   },\n",
        "D = {\n",
        "        \"Diligent\": \"Showing care in one’s work or duties.\",\n",
        "        \"Daunting\": \"Seeming difficult to deal with.\",\n",
        "        \"Delightful\": \"Causing great pleasure.\",\n",
        "        \"Devoted\": \"Very loving or loyal.\",\n",
        "        \"Diverse\": \"Showing variety or differences.\"\n",
        "    },\n",
        "E = {\n",
        "        \"Eager\": \"Very enthusiastic and excited about something.\",\n",
        "        \"Eloquent\": \"Fluent and persuasive in speaking or writing.\",\n",
        "        \"Efficient\": \"Working well without wasting time.\",\n",
        "        \"Endurance\": \"The ability to withstand hardship or stress.\",\n",
        "        \"Euphoric\": \"Feeling intense happiness and excitement.\"\n",
        "      }\n",
        "\n",
        "# };\n",
        "\n",
        " #Existing word ka meaning update karnay ke liye\n",
        "#dictionary[\"D\"][\"Diligent\"]=\"Hardworking and persistent\"\n",
        "  #Naya word add karnay ke liye\n",
        "#dictionary[\"D\"][\"Dynamic\"]=\"constently changing or active\"\n",
        "#print(dictionary[\"D\"])\n",
        "\n",
        "\n",
        "\n",
        "\n"
      ],
      "metadata": {
        "id": "xALWpsqh3o6H"
      },
      "execution_count": null,
      "outputs": []
    },
    {
      "cell_type": "code",
      "source": [],
      "metadata": {
        "id": "lBc6RafLds1o"
      },
      "execution_count": null,
      "outputs": []
    },
    {
      "cell_type": "markdown",
      "source": [
        "#updating the data in dictionary"
      ],
      "metadata": {
        "id": "9BEJAVaWHNsR"
      }
    },
    {
      "cell_type": "code",
      "source": [
        "condidate1 ={\n",
        "    \"name\":\"Fatima\",\n",
        "    \"age\": 17,\n",
        "    \"dob\": 26/1/2009,\n",
        "    \"profession\":\"graphic designing\",\n",
        "    \"qualification\":\"Matric\",\n",
        "    \"grade\":\"A\",\n",
        "}\n",
        "\n",
        "condidate1[\"name\"] =\"javeriya\"\n",
        "print(condidate1[\"name\"])\n",
        "condidate1[\"age\"]=14\n",
        "print(condidate1[\"age\"])\n"
      ],
      "metadata": {
        "colab": {
          "base_uri": "https://localhost:8080/"
        },
        "id": "85EjwHuetENg",
        "outputId": "6a64496d-a8b9-4d49-bd03-83936d447d92"
      },
      "execution_count": null,
      "outputs": [
        {
          "output_type": "stream",
          "name": "stdout",
          "text": [
            "javeriya\n",
            "14\n"
          ]
        }
      ]
    },
    {
      "cell_type": "code",
      "source": [
        "\n",
        "show_room=[]\n",
        "car1 = {\n",
        "    \"brand\":\"Tyota\",\n",
        "    \"model\":\"corlla\",\n",
        "    \"year\":2024\n",
        "}\n",
        "print(car1.keys())\n",
        "car2 ={\n",
        "    \"brand\":\"Honda\",\n",
        "    \"model\":\"sivic\",\n",
        "    \"year\":2024\n",
        "}\n",
        "print(car2.keys())\n",
        "car3 ={\n",
        "    \"brand\":\"Toyota\",\n",
        "    \"model\":\"Corlla\",\n",
        "    \"year\":2023\n",
        "}\n",
        "\n",
        "car4={\n",
        "    \"brand\":\"Mursedies\",\n",
        "    \"model\":\"Benze\",\n",
        "    \"year\":2022\n",
        "}\n",
        "print(car4.keys())\n",
        "show_room.append(car1)\n",
        "show_room.append(car2)\n",
        "show_room.append(car3)\n",
        "show_room.append(car4)\n",
        "print(show_room)\n",
        "for car in show_room:\n",
        "  print(show_room)\n"
      ],
      "metadata": {
        "id": "lkVMZE-U12lr",
        "colab": {
          "base_uri": "https://localhost:8080/"
        },
        "outputId": "ae466958-4ab6-4e86-c32d-1809b24cee5d"
      },
      "execution_count": null,
      "outputs": [
        {
          "output_type": "stream",
          "name": "stdout",
          "text": [
            "dict_keys(['brand', 'model', 'year'])\n",
            "dict_keys(['brand', 'model', 'year'])\n",
            "dict_keys(['brand', 'model', 'year'])\n",
            "[{'brand': 'Tyota', 'model': 'corlla', 'year': 2024}, {'brand': 'Honda', 'model': 'sivic', 'year': 2024}, {'brand': 'Toyota', 'model': 'Corlla', 'year': 2023}, {'brand': 'Mursedies', 'model': 'Benze', 'year': 2022}]\n",
            "[{'brand': 'Tyota', 'model': 'corlla', 'year': 2024}, {'brand': 'Honda', 'model': 'sivic', 'year': 2024}, {'brand': 'Toyota', 'model': 'Corlla', 'year': 2023}, {'brand': 'Mursedies', 'model': 'Benze', 'year': 2022}]\n",
            "[{'brand': 'Tyota', 'model': 'corlla', 'year': 2024}, {'brand': 'Honda', 'model': 'sivic', 'year': 2024}, {'brand': 'Toyota', 'model': 'Corlla', 'year': 2023}, {'brand': 'Mursedies', 'model': 'Benze', 'year': 2022}]\n",
            "[{'brand': 'Tyota', 'model': 'corlla', 'year': 2024}, {'brand': 'Honda', 'model': 'sivic', 'year': 2024}, {'brand': 'Toyota', 'model': 'Corlla', 'year': 2023}, {'brand': 'Mursedies', 'model': 'Benze', 'year': 2022}]\n",
            "[{'brand': 'Tyota', 'model': 'corlla', 'year': 2024}, {'brand': 'Honda', 'model': 'sivic', 'year': 2024}, {'brand': 'Toyota', 'model': 'Corlla', 'year': 2023}, {'brand': 'Mursedies', 'model': 'Benze', 'year': 2022}]\n"
          ]
        }
      ]
    },
    {
      "cell_type": "code",
      "source": [
        "user_data=[]\n",
        "user1={\n",
        "    \"name\":\"khadija\",\n",
        "    \"age\":20,\n",
        "    \"roll_number\":\"Giaico3421\"\n",
        "}\n",
        "user_data.append(user1)\n",
        "user2={\n",
        "     \"name\":\"khalda\",\n",
        "    \"age\":25,\n",
        "    \"roll_number\":\"Giaico3422\"\n",
        "}\n",
        "user_data.append(user2)\n",
        "user3={}\n",
        "user3[\"name\"]=input(\"Enter your name\")\n",
        "user3[\"age\"]=input(\"Enter your age\")\n",
        "user3[\"roll_number\"]:int=input(\"Enter your roll number\")\n",
        "user_data.append(user3)\n",
        "for user in user_data:\n",
        " print(user)\n",
        "\n"
      ],
      "metadata": {
        "colab": {
          "base_uri": "https://localhost:8080/"
        },
        "id": "w8kjEmIu4qj8",
        "outputId": "29b68fe8-a4a0-4908-b2de-c330b8c6e0f4"
      },
      "execution_count": null,
      "outputs": [
        {
          "output_type": "stream",
          "name": "stdout",
          "text": [
            "Enter your namejav\n",
            "Enter your age14\n",
            "Enter your roll number1234\n",
            "{'name': 'khadija', 'age': 20, 'roll_number': 'Giaico3421'}\n",
            "{'name': 'khalda', 'age': 25, 'roll_number': 'Giaico3422'}\n",
            "{'name': 'jav', 'age': '14', 'roll_number': '1234'}\n"
          ]
        }
      ]
    },
    {
      "cell_type": "code",
      "source": [
        "my_dict = {'name': 'Alice', 'age': 25}\n",
        "print(my_dict.keys())  # Output: dict_keys(['name', 'age'])\n"
      ],
      "metadata": {
        "colab": {
          "base_uri": "https://localhost:8080/"
        },
        "id": "86tN-F-qS4Az",
        "outputId": "c3912a37-bb23-49d1-8de7-cbbcabe7a472"
      },
      "execution_count": null,
      "outputs": [
        {
          "output_type": "stream",
          "name": "stdout",
          "text": [
            "dict_keys(['name', 'age'])\n"
          ]
        }
      ]
    },
    {
      "cell_type": "code",
      "source": [
        "student = {\"name\":\"saafiya\",\"roll_number\":\"GIAIC0342156\"}\n",
        "print(student.keys())"
      ],
      "metadata": {
        "id": "LmeSX_whaIs2"
      },
      "execution_count": null,
      "outputs": []
    },
    {
      "cell_type": "markdown",
      "source": [
        "Why we need loop in dictionary?"
      ],
      "metadata": {
        "id": "s3yEwcWKiz2y"
      }
    },
    {
      "cell_type": "code",
      "source": [
        "#for i in range(1,9):\n",
        " #print(i)\n",
        "\n",
        "friend =[\"seyyadah\",\"ainni\",\"anila\",\"farwah\"]\n",
        "for name in friend:\n",
        "  print(name)"
      ],
      "metadata": {
        "colab": {
          "base_uri": "https://localhost:8080/"
        },
        "id": "wB59YlDji932",
        "outputId": "f85f4e6a-aa30-45f2-9195-e2025077133d"
      },
      "execution_count": null,
      "outputs": [
        {
          "output_type": "stream",
          "name": "stdout",
          "text": [
            "seyyadah\n",
            "ainni\n",
            "anila\n",
            "farwah\n"
          ]
        }
      ]
    },
    {
      "cell_type": "markdown",
      "source": [
        "Guessing game"
      ],
      "metadata": {
        "id": "Voi6u3__27qs"
      }
    },
    {
      "cell_type": "code",
      "source": [
        "spesific_number = 9\n",
        "guess = 0\n",
        "while guess != spesific_number:\n",
        "  guess = int(input(\"Guess the number : \"))\n",
        "  print(\"sorry, Try again plz \" if guess != spesific_number else \"Congratulation! you got it \")"
      ],
      "metadata": {
        "colab": {
          "base_uri": "https://localhost:8080/"
        },
        "id": "DY3xuKTK8joR",
        "outputId": "52c935e2-de54-41b6-ce6d-af70dc73e54b"
      },
      "execution_count": null,
      "outputs": [
        {
          "output_type": "stream",
          "name": "stdout",
          "text": [
            "Guess the number : 6\n",
            "sorry, Try again plz \n",
            "Guess the number : 9\n",
            "Congratulation! you got it \n"
          ]
        }
      ]
    },
    {
      "cell_type": "code",
      "source": [
        "pin_number = 2426\n",
        "num = 0000\n",
        "while num != pin_number :\n",
        "  num = int(input(\"Enter your pin number :\"))\n",
        "  print(\"wrong pin number \" if num != pin_number else \"Got it\")"
      ],
      "metadata": {
        "colab": {
          "base_uri": "https://localhost:8080/"
        },
        "id": "AQG3_aPHBtXn",
        "outputId": "eef829a6-4a36-4143-9874-d6d1a5d9ec8b"
      },
      "execution_count": null,
      "outputs": [
        {
          "output_type": "stream",
          "name": "stdout",
          "text": [
            "Enter your pin number :0987\n",
            "wrong pin number \n",
            "Enter your pin number :2398\n",
            "wrong pin number \n",
            "Enter your pin number :2426\n",
            "Got it\n"
          ]
        }
      ]
    },
    {
      "cell_type": "code",
      "source": [
        "user_name = \"Waseem\"\n",
        "password = \"sadaf\"\n",
        "name = \"\"\n",
        "while name != user_name:\n",
        "  name = str(input(\"User name :\"))\n",
        "  print(\"Incorrect user name\" if name != user_name else \"correct\")\n",
        "  data = \"\"\n",
        "while data != password:\n",
        "  data = str(input(\"password\"))\n",
        "  print(\"Incorrect! Try again\" if data != password else\"\")\n"
      ],
      "metadata": {
        "colab": {
          "base_uri": "https://localhost:8080/"
        },
        "id": "tEBRvLCmEsCC",
        "outputId": "d2341e01-861e-42a5-edf2-db41e4f3be2a"
      },
      "execution_count": null,
      "outputs": [
        {
          "output_type": "stream",
          "name": "stdout",
          "text": [
            "User name :waseem\n",
            "Incorrect user name\n",
            "User name :Waseem\n",
            "correct\n",
            "passwordsadaf\n",
            "\n"
          ]
        }
      ]
    },
    {
      "cell_type": "markdown",
      "source": [
        "#Case Record Keeper"
      ],
      "metadata": {
        "id": "3YWtDPchPjRd"
      }
    },
    {
      "cell_type": "code",
      "source": [
        "print(\"**case record keeper**\")\n",
        "client_name = str(input(\" Enter client name\"))\n",
        "case_type = str(input(\"Enter case type (criminal or sivil)\"))\n",
        "case_number = int(input(\"Enter case number\"))\n",
        "court_name =str(input(\"Enter court name\"))\n",
        "case_status = str(input(\"Enter case status  \"))\n",
        "hearing_date = (input(\"Enter next hearing date\"))\n",
        "\n",
        "print(f\"client name :{client_name}\")\n",
        "print(f\" case type : {case_type}\")\n",
        "print(f\"case number : {case_number}\")\n",
        "print(f\"court name : {court_name}\")\n",
        "print(f\"case status : {case_status}\")\n",
        "print(f\"Hearing date : {hearing_date}\")\n",
        "\n",
        "#save  to file\n",
        "with open(\"case_data.text\",\"a\") as file:\n",
        "  file.write(f\"client: {client_name} , case type : {case_type} ,\"\n",
        "  \" case number : {case_number} , court name : {court_name},\"\n",
        "  \"case status : {case_status}, hearing date : {hearing_date} \")\n",
        "  print(\" Case info saved successfully!\")"
      ],
      "metadata": {
        "colab": {
          "base_uri": "https://localhost:8080/"
        },
        "id": "iyBxDIWyPwVR",
        "outputId": "027e7895-33cc-4ea2-95c1-9e99c1868855"
      },
      "execution_count": null,
      "outputs": [
        {
          "output_type": "stream",
          "name": "stdout",
          "text": [
            "**case record keeper**\n",
            " Enter client namejhon \n",
            "Enter case type (criminal or sivil) sivil\n",
            "Enter case number456\n",
            "Enter court name city\n",
            "Enter case status   snetching\n",
            "Enter next hearing date 4-5-2002\n",
            "client name :jhon \n",
            " case type :  sivil\n",
            "case number : 456\n",
            "court name :  city\n",
            "case status :  snetching\n",
            "Hearing date :  4-5-2002\n",
            " Case info saved successfully!\n"
          ]
        }
      ]
    }
  ]
}